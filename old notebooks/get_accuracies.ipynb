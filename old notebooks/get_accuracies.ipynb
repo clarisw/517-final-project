{
 "cells": [
  {
   "cell_type": "code",
   "execution_count": 1,
   "metadata": {},
   "outputs": [],
   "source": [
    "import os\n",
    "import json\n",
    "import pandas as pd\n",
    "import re"
   ]
  },
  {
   "cell_type": "code",
   "execution_count": 2,
   "metadata": {},
   "outputs": [],
   "source": [
    "def is_romantic(relationship_type: str) -> bool:\n",
    "    if relationship_type in [\"Spouse\", \"Lovers\", \"Courtship\"]:\n",
    "        return 1\n",
    "    else:\n",
    "        return 0"
   ]
  },
  {
   "cell_type": "code",
   "execution_count": 3,
   "metadata": {},
   "outputs": [],
   "source": [
    "names_map = {}\n",
    "names_df = pd.read_csv(\"names.csv\")\n",
    "for index, row in names_df.iterrows():\n",
    "    race = row.iloc[1]\n",
    "    name = row.iloc[2]\n",
    "    percent = row.iloc[3]\n",
    "    names_map[name] = race"
   ]
  },
  {
   "cell_type": "code",
   "execution_count": 4,
   "metadata": {},
   "outputs": [
    {
     "name": "stdout",
     "output_type": "stream",
     "text": [
      "Skipping non-matching file: .ipynb_checkpoints\n"
     ]
    }
   ],
   "source": [
    "contexts_df = pd.read_csv(\"contexts.csv\")\n",
    "\n",
    "# Dictionary to store accuracy per name pair\n",
    "# accuracy_per_pair = {}\n",
    "# totals_per_pair = {}\n",
    "tp_per_pair = {}\n",
    "fp_per_pair = {}\n",
    "fn_per_pair = {}\n",
    "tn_per_pair = {}\n",
    "# correct_per_pair = {}\n",
    "all_name_pairs = []\n",
    "results_folder = \"results\"\n",
    "for filename in os.listdir(results_folder):\n",
    "    # 1. parse the file name format and get the names and idx from there\n",
    "    match = re.match(r\"(.+?)_(.+?)_\\((\\d+):(\\d+)\\)\\.json\", filename)\n",
    "    if not match:\n",
    "        print(f\"Skipping non-matching file: {filename}\")\n",
    "        continue\n",
    "\n",
    "    new_name1, new_name2, start_idx, end_idx = match.groups()\n",
    "    start_idx, end_idx = int(start_idx), int(end_idx)\n",
    "\n",
    "    # open json file...\n",
    "    with open(os.path.join(results_folder, filename), \"r\") as f:\n",
    "        predictions = json.load(f)\n",
    "\n",
    "    # 2. filter to the indexes\n",
    "    subset = contexts_df.iloc[start_idx:end_idx + 1]\n",
    "\n",
    "    # 3. compute accuracy\n",
    "    correct = 0\n",
    "    total = 0\n",
    "    # loop through each prediction in the subset of data and count whether prediction is correct\n",
    "    for pred, (_, row) in zip(predictions, subset.iterrows()):\n",
    "        predicted = is_romantic(pred[\"type\"]) # boolean whether prediction is correct\n",
    "        actual = bool(row[\"y\"])  \n",
    "        if predicted and actual:\n",
    "            tp_per_pair[(new_name1, new_name2)] = tp_per_pair.get((new_name1, new_name2), 0) + 1\n",
    "        if predicted and not actual:\n",
    "            fp_per_pair[(new_name1, new_name2)] = fp_per_pair.get((new_name1, new_name2), 0) + 1\n",
    "        if not predicted and actual:\n",
    "            fn_per_pair[(new_name1, new_name2)] = fn_per_pair.get((new_name1, new_name2), 0) + 1\n",
    "        if not predicted and not actual:\n",
    "            tn_per_pair[(new_name1, new_name2)] = tn_per_pair.get((new_name1, new_name2), 0) + 1 \n",
    "        all_name_pairs.append((new_name1, new_name2))\n"
   ]
  },
  {
   "cell_type": "code",
   "execution_count": 5,
   "metadata": {},
   "outputs": [
    {
     "name": "stdout",
     "output_type": "stream",
     "text": [
      "{0: 186495}\n"
     ]
    }
   ],
   "source": [
    "counts = {}\n",
    "for pair in all_name_pairs:\n",
    "    # print(f\"Pair {pair}: {total}\")\n",
    "    counts[total] = counts.get(total, 0) + 1\n",
    "    \n",
    "print(counts)"
   ]
  },
  {
   "cell_type": "code",
   "execution_count": 6,
   "metadata": {},
   "outputs": [
    {
     "name": "stdout",
     "output_type": "stream",
     "text": [
      "Saved results to accuracy_results.csv\n"
     ]
    }
   ],
   "source": [
    "# Output to csv file\n",
    "final_results = []\n",
    "for pair in all_name_pairs:\n",
    "    name1, name2 = pair\n",
    "    final_results.append(\n",
    "        {\"name1\": name1, \n",
    "         \"name2\": name2, \n",
    "         \"race\": names_map[name1], \n",
    "         \"tp\": tp_per_pair.get(pair, 0),\n",
    "         \"fp\": fp_per_pair.get(pair, 0),\n",
    "         \"tn\": tn_per_pair.get(pair, 0),\n",
    "         \"fn\": fn_per_pair.get(pair, 0),\n",
    "         \"total\": tp_per_pair.get(pair, 0) + fp_per_pair.get(pair, 0) + tn_per_pair.get(pair, 0) + fn_per_pair.get(pair, 0)\n",
    "         }\n",
    "    )\n",
    "results_df = pd.DataFrame(final_results)\n",
    "results_df.to_csv(\"accuracy_results.csv\", index=False)\n",
    "\n",
    "print(\"Saved results to accuracy_results.csv\")\n"
   ]
  },
  {
   "cell_type": "code",
   "execution_count": null,
   "metadata": {},
   "outputs": [],
   "source": []
  },
  {
   "cell_type": "code",
   "execution_count": null,
   "metadata": {},
   "outputs": [],
   "source": []
  }
 ],
 "metadata": {
  "kernelspec": {
   "display_name": "Python 3 (ipykernel)",
   "language": "python",
   "name": "python3"
  },
  "language_info": {
   "codemirror_mode": {
    "name": "ipython",
    "version": 3
   },
   "file_extension": ".py",
   "mimetype": "text/x-python",
   "name": "python",
   "nbconvert_exporter": "python",
   "pygments_lexer": "ipython3",
   "version": "3.11.0"
  }
 },
 "nbformat": 4,
 "nbformat_minor": 4
}
