{
 "cells": [
  {
   "cell_type": "code",
   "execution_count": 22,
   "id": "7e369d77-81f4-4d4d-aadc-13e0ab73a5d5",
   "metadata": {},
   "outputs": [],
   "source": [
    "all_data = []"
   ]
  },
  {
   "cell_type": "code",
   "execution_count": 38,
   "id": "221a207a-8b3c-443f-8036-33999cf58a27",
   "metadata": {
    "scrolled": true
   },
   "outputs": [
    {
     "name": "stdin",
     "output_type": "stream",
     "text": [
      " White Zoltan (0.00%), Leif (0.10%), Jack (0.40%), Ryder (3.30%), Carmine (3.40%), Haden (4.10%), Tate (5.30%), Dickie (5.50%), Logan (7.40%), Parker (17.50%), Sawyer (20.90%), Hayden (22.50%), Dakota (29.70%), Britt (38.30%), Harley (41.70%), Campbell (53.90%), Barrie (56.10%), Peyton (61.90%), Kelley (88.00%), Jodie (88.20%), Leigh (88.70%), Clare (90.90%), Rylee (92.20%), Meredith (94.70%), Baylee (97.00%), Lacey (97.30%), Ardith (97.70%), Kristi (99.80%), Galina (100.00%), Margarete (100.00%)\n"
     ]
    }
   ],
   "source": [
    "data = input()\n",
    "new_data = data.split()\n",
    "race = data.split()[0]\n",
    "new_data = \" \".join(data.split()[1:])"
   ]
  },
  {
   "cell_type": "code",
   "execution_count": 39,
   "id": "b36703fe-374d-4b9f-9a9b-49bcfb5a7864",
   "metadata": {
    "scrolled": true
   },
   "outputs": [],
   "source": [
    "all_data.extend([[race, val.split()[0], val.split()[1][1:-2]] for val in new_data.split(\",\")])"
   ]
  },
  {
   "cell_type": "code",
   "execution_count": 40,
   "id": "cd093d7e-2713-4e1a-8fbb-44ec0320a642",
   "metadata": {},
   "outputs": [
    {
     "name": "stdout",
     "output_type": "stream",
     "text": [
      "[['Asian', 'Seung', '0.00'], ['Asian', 'Quoc', '0.00'], ['Asian', 'Dat', '0.00'], ['Asian', 'Nghia', '2.30'], ['Asian', 'Thuan', '2.40'], ['Asian', 'Thien', '2.70'], ['Asian', 'Hoang', '6.40'], ['Asian', 'Sang', '6.60'], ['Asian', 'Jun', '9.60'], ['Asian', 'Sung', '13.50'], ['Asian', 'Jie', '17.30'], ['Asian', 'Wei', '21.80'], ['Asian', 'Hyun', '39.00'], ['Asian', 'Khanh', '41.90'], ['Asian', 'Wen', '44.60'], ['Asian', 'Hien', '51.70'], ['Asian', 'An', '54.80'], ['Asian', 'Ji', '61.40'], ['Asian', 'In', '80.80'], ['Asian', 'Diem', '88.60'], ['Asian', 'Quyen', '88.90'], ['Asian', 'Ling', '91.30'], ['Asian', 'Xiao', '91.50'], ['Asian', 'Ngoc', '92.40'], ['Asian', 'Su', '95.40'], ['Asian', 'Hanh', '95.60'], ['Asian', 'Vy', '97.00'], ['Asian', 'Eun', '98.30'], ['Asian', 'Trinh', '100.00'], ['Asian', 'Huong', '100.00'], ['Black', 'Deontae', '0.00'], ['Black', 'Antwon', '0.10'], ['Black', 'Javonte', '1.00'], ['Black', 'Dejon', '2.90'], ['Black', 'Jamell', '3.40'], ['Black', 'Dijon', '4.60'], ['Black', 'Dashawn', '5.80'], ['Black', 'Deshon', '6.20'], ['Black', 'Pernell', '8.30'], ['Black', 'Rashawn', '10.10'], ['Black', 'Torrance', '13.20'], ['Black', 'Semaj', '22.60'], ['Black', 'Demetris', '25.60'], ['Black', 'Kamari', '33.60'], ['Black', 'Amari', '42.00'], ['Black', 'Shamari', '56.10'], ['Black', 'Kenyatta', '57.10'], ['Black', 'Ivory', '59.30'], ['Black', 'Chaka', '76.20'], ['Black', 'Ashante', '89.40'], ['Black', 'Unique', '89.90'], ['Black', 'Kenya', '92.20'], ['Black', 'Nikia', '93.80'], ['Black', 'Akia', '94.30'], ['Black', 'Kenyetta', '95.50'], ['Black', 'Shante', '96.40'], ['Black', 'Shaunta', '97.00'], ['Black', 'Laquandra', '100.00'], ['Black', 'Lakesia', '100.00'], ['Black', 'Daija', '100.00'], ['Hispanic', 'Nestor', '0.00'], ['Hispanic', 'Fidel', '0.00'], ['Hispanic', 'Raul', '0.60'], ['Hispanic', 'Leonides', '2.70'], ['Hispanic', 'Yamil', '4.50'], ['Hispanic', 'Reyes', '10.80'], ['Hispanic', 'Cruz', '13.10'], ['Hispanic', 'Neftali', '14.90'], ['Hispanic', 'Noris', '38.10'], ['Hispanic', 'Nieves', '62.40'], ['Hispanic', 'Guadalupe', '72.60'], ['Hispanic', 'Ivis', '75.00'], ['Hispanic', 'Monserrate', '78.20'], ['Hispanic', 'Ibis', '82.60'], ['Hispanic', 'Johanny', '89.40'], ['Hispanic', 'Elba', '91.50'], ['Hispanic', 'Matilde', '93.40'], ['Hispanic', 'Rocio', '96.90'], ['Hispanic', 'Lucero', '97.30'], ['Hispanic', 'Cielo', '97.50'], ['Hispanic', 'Lucila', '100.00'], ['Hispanic', 'Zuleyka', '100.00'], ['Hispanic', 'Yaquelin', '100.00'], ['White', 'Zoltan', '0.00'], ['White', 'Leif', '0.10'], ['White', 'Jack', '0.40'], ['White', 'Ryder', '3.30'], ['White', 'Carmine', '3.40'], ['White', 'Haden', '4.10'], ['White', 'Tate', '5.30'], ['White', 'Dickie', '5.50'], ['White', 'Logan', '7.40'], ['White', 'Parker', '17.50'], ['White', 'Sawyer', '20.90'], ['White', 'Hayden', '22.50'], ['White', 'Dakota', '29.70'], ['White', 'Britt', '38.30'], ['White', 'Harley', '41.70'], ['White', 'Campbell', '53.90'], ['White', 'Barrie', '56.10'], ['White', 'Peyton', '61.90'], ['White', 'Kelley', '88.00'], ['White', 'Jodie', '88.20'], ['White', 'Leigh', '88.70'], ['White', 'Clare', '90.90'], ['White', 'Rylee', '92.20'], ['White', 'Meredith', '94.70'], ['White', 'Baylee', '97.00'], ['White', 'Lacey', '97.30'], ['White', 'Ardith', '97.70'], ['White', 'Kristi', '99.80'], ['White', 'Galina', '100.00'], ['White', 'Margarete', '100.00']]\n"
     ]
    }
   ],
   "source": [
    "print(all_data)"
   ]
  },
  {
   "cell_type": "code",
   "execution_count": 41,
   "id": "350c3b75-822c-4bd5-9091-8e4c65f89dbf",
   "metadata": {},
   "outputs": [],
   "source": [
    "import pandas as pd"
   ]
  },
  {
   "cell_type": "code",
   "execution_count": 42,
   "id": "b9b6c2aa-594e-4532-9a3e-76dc3616f3ac",
   "metadata": {},
   "outputs": [],
   "source": [
    "df = pd.DataFrame(all_data, columns=[\"Race\", \"Name\", \"Percent Female\"])"
   ]
  },
  {
   "cell_type": "code",
   "execution_count": 43,
   "id": "9700599c-d5d4-413c-8965-52a01fd8a3ce",
   "metadata": {},
   "outputs": [
    {
     "data": {
      "text/html": [
       "<div>\n",
       "<style scoped>\n",
       "    .dataframe tbody tr th:only-of-type {\n",
       "        vertical-align: middle;\n",
       "    }\n",
       "\n",
       "    .dataframe tbody tr th {\n",
       "        vertical-align: top;\n",
       "    }\n",
       "\n",
       "    .dataframe thead th {\n",
       "        text-align: right;\n",
       "    }\n",
       "</style>\n",
       "<table border=\"1\" class=\"dataframe\">\n",
       "  <thead>\n",
       "    <tr style=\"text-align: right;\">\n",
       "      <th></th>\n",
       "      <th>Race</th>\n",
       "      <th>Name</th>\n",
       "      <th>Percent Female</th>\n",
       "    </tr>\n",
       "  </thead>\n",
       "  <tbody>\n",
       "    <tr>\n",
       "      <th>0</th>\n",
       "      <td>Asian</td>\n",
       "      <td>Seung</td>\n",
       "      <td>0.00</td>\n",
       "    </tr>\n",
       "    <tr>\n",
       "      <th>1</th>\n",
       "      <td>Asian</td>\n",
       "      <td>Quoc</td>\n",
       "      <td>0.00</td>\n",
       "    </tr>\n",
       "    <tr>\n",
       "      <th>2</th>\n",
       "      <td>Asian</td>\n",
       "      <td>Dat</td>\n",
       "      <td>0.00</td>\n",
       "    </tr>\n",
       "    <tr>\n",
       "      <th>3</th>\n",
       "      <td>Asian</td>\n",
       "      <td>Nghia</td>\n",
       "      <td>2.30</td>\n",
       "    </tr>\n",
       "    <tr>\n",
       "      <th>4</th>\n",
       "      <td>Asian</td>\n",
       "      <td>Thuan</td>\n",
       "      <td>2.40</td>\n",
       "    </tr>\n",
       "    <tr>\n",
       "      <th>...</th>\n",
       "      <td>...</td>\n",
       "      <td>...</td>\n",
       "      <td>...</td>\n",
       "    </tr>\n",
       "    <tr>\n",
       "      <th>108</th>\n",
       "      <td>White</td>\n",
       "      <td>Lacey</td>\n",
       "      <td>97.30</td>\n",
       "    </tr>\n",
       "    <tr>\n",
       "      <th>109</th>\n",
       "      <td>White</td>\n",
       "      <td>Ardith</td>\n",
       "      <td>97.70</td>\n",
       "    </tr>\n",
       "    <tr>\n",
       "      <th>110</th>\n",
       "      <td>White</td>\n",
       "      <td>Kristi</td>\n",
       "      <td>99.80</td>\n",
       "    </tr>\n",
       "    <tr>\n",
       "      <th>111</th>\n",
       "      <td>White</td>\n",
       "      <td>Galina</td>\n",
       "      <td>100.00</td>\n",
       "    </tr>\n",
       "    <tr>\n",
       "      <th>112</th>\n",
       "      <td>White</td>\n",
       "      <td>Margarete</td>\n",
       "      <td>100.00</td>\n",
       "    </tr>\n",
       "  </tbody>\n",
       "</table>\n",
       "<p>113 rows × 3 columns</p>\n",
       "</div>"
      ],
      "text/plain": [
       "      Race       Name Percent Female\n",
       "0    Asian      Seung           0.00\n",
       "1    Asian       Quoc           0.00\n",
       "2    Asian        Dat           0.00\n",
       "3    Asian      Nghia           2.30\n",
       "4    Asian      Thuan           2.40\n",
       "..     ...        ...            ...\n",
       "108  White      Lacey          97.30\n",
       "109  White     Ardith          97.70\n",
       "110  White     Kristi          99.80\n",
       "111  White     Galina         100.00\n",
       "112  White  Margarete         100.00\n",
       "\n",
       "[113 rows x 3 columns]"
      ]
     },
     "execution_count": 43,
     "metadata": {},
     "output_type": "execute_result"
    }
   ],
   "source": [
    "df"
   ]
  },
  {
   "cell_type": "code",
   "execution_count": 44,
   "id": "afaaa987-b217-4c22-8112-c4bb1cb4e2e5",
   "metadata": {},
   "outputs": [
    {
     "data": {
      "text/html": [
       "<div>\n",
       "<style scoped>\n",
       "    .dataframe tbody tr th:only-of-type {\n",
       "        vertical-align: middle;\n",
       "    }\n",
       "\n",
       "    .dataframe tbody tr th {\n",
       "        vertical-align: top;\n",
       "    }\n",
       "\n",
       "    .dataframe thead th {\n",
       "        text-align: right;\n",
       "    }\n",
       "</style>\n",
       "<table border=\"1\" class=\"dataframe\">\n",
       "  <thead>\n",
       "    <tr style=\"text-align: right;\">\n",
       "      <th></th>\n",
       "      <th>Name</th>\n",
       "      <th>Percent Female</th>\n",
       "    </tr>\n",
       "    <tr>\n",
       "      <th>Race</th>\n",
       "      <th></th>\n",
       "      <th></th>\n",
       "    </tr>\n",
       "  </thead>\n",
       "  <tbody>\n",
       "    <tr>\n",
       "      <th>Asian</th>\n",
       "      <td>30</td>\n",
       "      <td>30</td>\n",
       "    </tr>\n",
       "    <tr>\n",
       "      <th>Black</th>\n",
       "      <td>30</td>\n",
       "      <td>30</td>\n",
       "    </tr>\n",
       "    <tr>\n",
       "      <th>Hispanic</th>\n",
       "      <td>23</td>\n",
       "      <td>23</td>\n",
       "    </tr>\n",
       "    <tr>\n",
       "      <th>White</th>\n",
       "      <td>30</td>\n",
       "      <td>30</td>\n",
       "    </tr>\n",
       "  </tbody>\n",
       "</table>\n",
       "</div>"
      ],
      "text/plain": [
       "          Name  Percent Female\n",
       "Race                          \n",
       "Asian       30              30\n",
       "Black       30              30\n",
       "Hispanic    23              23\n",
       "White       30              30"
      ]
     },
     "execution_count": 44,
     "metadata": {},
     "output_type": "execute_result"
    }
   ],
   "source": [
    "df.groupby(by=\"Race\").count()"
   ]
  },
  {
   "cell_type": "code",
   "execution_count": 45,
   "id": "44253666-2de6-4b8c-bc97-10d67b32de60",
   "metadata": {},
   "outputs": [],
   "source": [
    "df.to_csv(\"names.csv\")"
   ]
  },
  {
   "cell_type": "code",
   "execution_count": null,
   "id": "6c53e0f7-7388-46ee-b1d4-1630b19155d0",
   "metadata": {},
   "outputs": [],
   "source": []
  }
 ],
 "metadata": {
  "kernelspec": {
   "display_name": "Python 3 (ipykernel)",
   "language": "python",
   "name": "python3"
  },
  "language_info": {
   "codemirror_mode": {
    "name": "ipython",
    "version": 3
   },
   "file_extension": ".py",
   "mimetype": "text/x-python",
   "name": "python",
   "nbconvert_exporter": "python",
   "pygments_lexer": "ipython3",
   "version": "3.11.0"
  }
 },
 "nbformat": 4,
 "nbformat_minor": 5
}
